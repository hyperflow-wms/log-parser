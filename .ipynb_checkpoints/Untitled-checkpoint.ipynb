{
 "cells": [
  {
   "cell_type": "code",
   "execution_count": 4,
   "metadata": {},
   "outputs": [],
   "source": [
    "import re\n",
    "import json\n",
    "import ast\n",
    "\n",
    "def parse(text):\n",
    "    return re.match('Job\\sinputs:\\s+(\\[.*\\])', text, re.I)\n"
   ]
  },
  {
   "cell_type": "code",
   "execution_count": 5,
   "metadata": {},
   "outputs": [],
   "source": [
    "text2 = \"\"\"Job inputs: [{ 'p2mass-atlas-980914s-j0840021.fits': 4152960 },{ 'p2mass-atlas-980914s-j0840021_area.fits': 4152960 },{ '1-corrections.tbl': 11991 },{ '1-projected.tbl': 34843 }]\"\"\"\n",
    "\n",
    "text = \"\"\"Job inputs: [{ 'p2mass-atlas-980914s-j0840021.fits': 4152960 }]\"\"\""
   ]
  },
  {
   "cell_type": "code",
   "execution_count": 6,
   "metadata": {},
   "outputs": [
    {
     "name": "stdout",
     "output_type": "stream",
     "text": [
      "[{ 'p2mass-atlas-980914s-j0840021.fits': 4152960 },{ 'p2mass-atlas-980914s-j0840021_area.fits': 4152960 },{ '1-corrections.tbl': 11991 },{ '1-projected.tbl': 34843 }]\n",
      "[{'p2mass-atlas-980914s-j0840021.fits': 4152960}, {'p2mass-atlas-980914s-j0840021_area.fits': 4152960}, {'1-corrections.tbl': 11991}, {'1-projected.tbl': 34843}]\n"
     ]
    }
   ],
   "source": [
    "metric = parse(text)\n",
    "if metric:\n",
    "    lines = metric.group(1).strip()\n",
    "    print(lines)\n",
    "    inst = ast.literal_eval(lines)\n",
    "    print(inst)\n",
    "#     file_sizes_dict = {}\n",
    "#     for line in lines:\n",
    "#         if line.endswith(','):\n",
    "#             line = line.strip()[:-1]\n",
    "#         file_sizes_dict.update(ast.literal_eval(line.strip()))\n",
    "\n",
    "# file_sizes_dict\n",
    "        "
   ]
  },
  {
   "cell_type": "code",
   "execution_count": null,
   "metadata": {},
   "outputs": [],
   "source": []
  }
 ],
 "metadata": {
  "kernelspec": {
   "display_name": "Python 3.8.2 64-bit",
   "language": "python",
   "name": "python38264bitdb56986418144d9a9bc744e669ce6afb"
  },
  "language_info": {
   "codemirror_mode": {
    "name": "ipython",
    "version": 3
   },
   "file_extension": ".py",
   "mimetype": "text/x-python",
   "name": "python",
   "nbconvert_exporter": "python",
   "pygments_lexer": "ipython3",
   "version": "3.8.2"
  }
 },
 "nbformat": 4,
 "nbformat_minor": 2
}
